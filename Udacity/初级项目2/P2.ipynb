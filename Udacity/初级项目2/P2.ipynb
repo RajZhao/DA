{
 "cells": [
  {
   "cell_type": "code",
   "execution_count": 19,
   "metadata": {
    "collapsed": true
   },
   "outputs": [],
   "source": [
    "import pandas as pd \n",
    "import numpy as np\n",
    "from pandas import DataFrame,Series"
   ]
  },
  {
   "cell_type": "code",
   "execution_count": 20,
   "metadata": {
    "collapsed": true
   },
   "outputs": [],
   "source": [
    "path_name=\"./titanic-data.csv\"\n",
    "titantic_data = pd.read_csv(path_name)\n",
    "df_titantic=DataFrame(titantic_data)"
   ]
  },
  {
   "cell_type": "markdown",
   "metadata": {},
   "source": [
    "# 1.准备工作"
   ]
  },
  {
   "cell_type": "markdown",
   "metadata": {},
   "source": [
    ">## 1.1检查数据完整性"
   ]
  },
  {
   "cell_type": "code",
   "execution_count": 21,
   "metadata": {},
   "outputs": [
    {
     "name": "stdout",
     "output_type": "stream",
     "text": [
      "<class 'pandas.core.frame.DataFrame'>\n",
      "RangeIndex: 891 entries, 0 to 890\n",
      "Data columns (total 12 columns):\n",
      "PassengerId    891 non-null int64\n",
      "Survived       891 non-null int64\n",
      "Pclass         891 non-null int64\n",
      "Name           891 non-null object\n",
      "Sex            891 non-null object\n",
      "Age            714 non-null float64\n",
      "SibSp          891 non-null int64\n",
      "Parch          891 non-null int64\n",
      "Ticket         891 non-null object\n",
      "Fare           891 non-null float64\n",
      "Cabin          204 non-null object\n",
      "Embarked       889 non-null object\n",
      "dtypes: float64(2), int64(5), object(5)\n",
      "memory usage: 83.6+ KB\n"
     ]
    }
   ],
   "source": [
    "#检查数据完整性\n",
    "df_titantic.info()"
   ]
  },
  {
   "cell_type": "markdown",
   "metadata": {},
   "source": [
    "** 总共891行，cabin，age，cabin所在行的数据存在缺失，由于存在不完整数据，下一步将要清除值为NA的所在行，由于cabin缺失数据较多，所以直接删除cabin整列 **\n"
   ]
  },
  {
   "cell_type": "code",
   "execution_count": 22,
   "metadata": {},
   "outputs": [
    {
     "name": "stdout",
     "output_type": "stream",
     "text": [
      "<class 'pandas.core.frame.DataFrame'>\n",
      "Int64Index: 712 entries, 0 to 890\n",
      "Data columns (total 11 columns):\n",
      "PassengerId    712 non-null int64\n",
      "Survived       712 non-null int64\n",
      "Pclass         712 non-null int64\n",
      "Name           712 non-null object\n",
      "Sex            712 non-null object\n",
      "Age            712 non-null float64\n",
      "SibSp          712 non-null int64\n",
      "Parch          712 non-null int64\n",
      "Ticket         712 non-null object\n",
      "Fare           712 non-null float64\n",
      "Embarked       712 non-null object\n",
      "dtypes: float64(2), int64(5), object(4)\n",
      "memory usage: 66.8+ KB\n"
     ]
    }
   ],
   "source": [
    "df_titantic=df_titantic.drop(['Cabin'],axis=1)    #删除Cabin整列\n",
    "df_titantic=df_titantic.dropna(axis=0)          #删除空值整行数据\n",
    "df_titantic.info()                              #检查是否存在遗漏"
   ]
  },
  {
   "cell_type": "markdown",
   "metadata": {},
   "source": [
    "**筛选后数据量为712行，由于删除大量数据，可能会造成分析结果不准确**"
   ]
  },
  {
   "cell_type": "markdown",
   "metadata": {},
   "source": [
    "# 2.分析各项数据"
   ]
  },
  {
   "cell_type": "markdown",
   "metadata": {},
   "source": [
    ">## 2.1构建需要用到的函数"
   ]
  },
  {
   "cell_type": "markdown",
   "metadata": {},
   "source": [
    ">>### 2.1.1构建生还者人数堆柱形图"
   ]
  },
  {
   "cell_type": "code",
   "execution_count": 23,
   "metadata": {},
   "outputs": [
    {
     "name": "stdout",
     "output_type": "stream",
     "text": [
      "Populating the interactive namespace from numpy and matplotlib\n"
     ]
    }
   ],
   "source": [
    "#构建绘制生还者人数的堆柱形图\n",
    "% pylab inline\n",
    "import matplotlib.pyplot as plt\n",
    "import seaborn as sns\n",
    "sns.set(color_codes=True)\n",
    "def survial_count(key):\n",
    "    df_titantic.groupby([key,'Survived'])['Survived'].count().unstack().plot(kind='bar',stacked=True)\n",
    "    plt.ylabel('Count')\n",
    "    plt.title('Number of Survived Passenger Number by {}'.format(key))"
   ]
  },
  {
   "cell_type": "markdown",
   "metadata": {},
   "source": [
    ">>### 2.1.2构建生存率函数"
   ]
  },
  {
   "cell_type": "code",
   "execution_count": 24,
   "metadata": {
    "collapsed": true
   },
   "outputs": [],
   "source": [
    "def survival_rate(key):\n",
    "    df_titantic.groupby(key)['Survived'].mean().plot(kind='bar')\n",
    "    plt.ylabel('Survival rate')\n",
    "    plt.title('Survival rate by {}'.format(key))"
   ]
  },
  {
   "cell_type": "markdown",
   "metadata": {},
   "source": [
    ">## 2.2 Pclass数据分析"
   ]
  },
  {
   "cell_type": "markdown",
   "metadata": {},
   "source": [
    ">>### 2.2.1 Pclass生存人数分析"
   ]
  },
  {
   "cell_type": "code",
   "execution_count": 25,
   "metadata": {},
   "outputs": [
    {
     "name": "stdout",
     "output_type": "stream",
     "text": [
      "生还人数\n",
      "1    120\n",
      "2     83\n",
      "3     85\n",
      "Name: Pclass, dtype: int64\n",
      "遇难人数\n",
      "1     64\n",
      "2     90\n",
      "3    270\n",
      "Name: Pclass, dtype: int64\n"
     ]
    },
    {
     "data": {
      "image/png": "[encoded data removed]",
      "text/plain": [
       "<matplotlib.figure.Figure at 0xd88c6d8>"
      ]
     },
     "metadata": {},
     "output_type": "display_data"
    }
   ],
   "source": [
    "survial_count('Pclass')#构建生存人数图表\n",
    "survived=df_titantic[df_titantic['Survived']==1]\n",
    "unsurvived=df_titantic[df_titantic['Survived']==0]\n",
    "print \"生还人数\"\n",
    "print survived['Pclass'].value_counts(sort=False)\n",
    "print \"遇难人数\"\n",
    "print unsurvived['Pclass'].value_counts(sort=False)"
   ]
  },
  {
   "cell_type": "markdown",
   "metadata": {},
   "source": [
    ">>### 2.2.2 与Pclass相关生存率分析"
   ]
  },
  {
   "cell_type": "code",
   "execution_count": 26,
   "metadata": {},
   "outputs": [
    {
     "data": {
      "image/png": "[encoded data removed]",
      "text/plain": [
       "<matplotlib.figure.Figure at 0xdd8d128>"
      ]
     },
     "metadata": {},
     "output_type": "display_data"
    }
   ],
   "source": [
    "survival_rate('Pclass')#构建生存率图表"
   ]
  },
  {
   "cell_type": "markdown",
   "metadata": {},
   "source": [
    ">>### 2.2.3结论"
   ]
  },
  {
   "cell_type": "markdown",
   "metadata": {},
   "source": [
    "** 结论：**\n",
    "1. **由生存人数图表得出结论：在一等舱人数大量少于三等舱人数，基本和二等舱人数相等的情况下，一等舱存活的人数（120人）远远大于二等舱（83人）和三等舱存活人数（85人），并且遇难人数小于二等舱与三等舱。**\n",
    "2. **由生存率图表得出结论：一等舱生存率远远高于二等舱和三等舱**"
   ]
  },
  {
   "cell_type": "markdown",
   "metadata": {},
   "source": [
    "* **由此得出结论，忽略其他影响因素，一等舱存活几率最高，二等舱次之，三等舱存活率最低**"
   ]
  },
  {
   "cell_type": "markdown",
   "metadata": {},
   "source": [
    ">## 2.3性别数据分析"
   ]
  },
  {
   "cell_type": "markdown",
   "metadata": {},
   "source": [
    ">>### 2.3.1 按性别分类，生存人数分析"
   ]
  },
  {
   "cell_type": "code",
   "execution_count": 27,
   "metadata": {},
   "outputs": [
    {
     "name": "stdout",
     "output_type": "stream",
     "text": [
      "生还人数\n",
      "female    195\n",
      "male       93\n",
      "Name: Sex, dtype: int64\n",
      "遇难人数\n",
      "female     64\n",
      "male      360\n",
      "Name: Sex, dtype: int64\n"
     ]
    },
    {
     "data": {
      "image/png": "[encoded data removed]",
      "text/plain": [
       "<matplotlib.figure.Figure at 0xd87dcc0>"
      ]
     },
     "metadata": {},
     "output_type": "display_data"
    }
   ],
   "source": [
    "survial_count('Sex')\n",
    "print \"生还人数\"\n",
    "print survived['Sex'].value_counts(sort=False)\n",
    "print \"遇难人数\"\n",
    "print unsurvived['Sex'].value_counts(sort=False)"
   ]
  },
  {
   "cell_type": "markdown",
   "metadata": {},
   "source": [
    ">>### 2.3.2 按性别分类，生存率分析"
   ]
  },
  {
   "cell_type": "code",
   "execution_count": 28,
   "metadata": {},
   "outputs": [
    {
     "data": {
      "image/png": "[encoded data removed]",
      "text/plain": [
       "<matplotlib.figure.Figure at 0xe5145f8>"
      ]
     },
     "metadata": {},
     "output_type": "display_data"
    }
   ],
   "source": [
    "survival_rate('Sex')#构建生存率图表"
   ]
  },
  {
   "cell_type": "markdown",
   "metadata": {},
   "source": [
    ">>## 2.3.3 结论"
   ]
  },
  {
   "cell_type": "markdown",
   "metadata": {},
   "source": [
    "**结论**\n",
    "1. **在女性总人数远远少于男性总人数的情况下，女性的生还人数(195人)仍旧远远大于男性生还人数（93人）**\n",
    "2. **女性生存率远远大于男性生存率。**"
   ]
  },
  {
   "cell_type": "markdown",
   "metadata": {},
   "source": [
    "* **由此得出结论，忽略其他影响因素，女性生存率高于男性生存率**"
   ]
  },
  {
   "cell_type": "markdown",
   "metadata": {},
   "source": [
    ">## 2.4 年龄数据分析"
   ]
  },
  {
   "cell_type": "markdown",
   "metadata": {},
   "source": [
    ">>### 2.4.1 按年龄分类，存活人数分析"
   ]
  },
  {
   "cell_type": "code",
   "execution_count": 29,
   "metadata": {},
   "outputs": [
    {
     "data": {
      "image/png": "[encoded data removed]",
      "text/plain": [
       "<matplotlib.figure.Figure at 0xe4fcb70>"
      ]
     },
     "metadata": {},
     "output_type": "display_data"
    },
    {
     "data": {
      "text/plain": [
       "count    288.000000\n",
       "mean      28.193299\n",
       "std       14.859146\n",
       "min        0.420000\n",
       "25%       19.000000\n",
       "50%       28.000000\n",
       "75%       36.000000\n",
       "max       80.000000\n",
       "Name: Age, dtype: float64"
      ]
     },
     "execution_count": 29,
     "metadata": {},
     "output_type": "execute_result"
    }
   ],
   "source": [
    "#绘制年龄生还人数的直方图\n",
    "plt.xlabel('Age')\n",
    "plt.ylabel('Number of Age')\n",
    "plt.title('Age of survived')\n",
    "plt.hist(survived['Age'], bins=10)\n",
    "plt.show()\n",
    "sns.set(color_codes=True)\n",
    "survived['Age'].describe()"
   ]
  },
  {
   "cell_type": "markdown",
   "metadata": {},
   "source": [
    ">>### 2.4.2按年龄分类，遇难人数分析"
   ]
  },
  {
   "cell_type": "code",
   "execution_count": 30,
   "metadata": {},
   "outputs": [
    {
     "data": {
      "image/png": "[encoded data removed]",
      "text/plain": [
       "<matplotlib.figure.Figure at 0xe72e4a8>"
      ]
     },
     "metadata": {},
     "output_type": "display_data"
    },
    {
     "data": {
      "text/plain": [
       "count    424.000000\n",
       "mean      30.626179\n",
       "std       14.172110\n",
       "min        1.000000\n",
       "25%       21.000000\n",
       "50%       28.000000\n",
       "75%       39.000000\n",
       "max       74.000000\n",
       "Name: Age, dtype: float64"
      ]
     },
     "execution_count": 30,
     "metadata": {},
     "output_type": "execute_result"
    }
   ],
   "source": [
    "#绘制遇难人数按年龄分类的直方图\n",
    "plt.xlabel('Age')\n",
    "plt.ylabel('Number of Age')\n",
    "plt.title('Age of unsurvived')\n",
    "plt.hist(unsurvived['Age'], bins=10)\n",
    "plt.show()\n",
    "unsurvived['Age'].describe()"
   ]
  },
  {
   "cell_type": "markdown",
   "metadata": {},
   "source": [
    ">>### 2.4.3 按年龄分类，总体乘船人数分析"
   ]
  },
  {
   "cell_type": "code",
   "execution_count": 31,
   "metadata": {},
   "outputs": [
    {
     "name": "stdout",
     "output_type": "stream",
     "text": [
      "整体Age相关数据\n"
     ]
    },
    {
     "data": {
      "text/plain": [
       "count    712.000000\n",
       "mean      29.642093\n",
       "std       14.492933\n",
       "min        0.420000\n",
       "25%       20.000000\n",
       "50%       28.000000\n",
       "75%       38.000000\n",
       "max       80.000000\n",
       "Name: Age, dtype: float64"
      ]
     },
     "execution_count": 31,
     "metadata": {},
     "output_type": "execute_result"
    },
    {
     "data": {
      "image/png": "[encoded data removed]",
      "text/plain": [
       "<matplotlib.figure.Figure at 0xe71ea58>"
      ]
     },
     "metadata": {},
     "output_type": "display_data"
    }
   ],
   "source": [
    "print '整体Age相关数据'\n",
    "plt.xlabel('Age')\n",
    "plt.ylabel('Number of Age')\n",
    "plt.title('Age of all passenger')\n",
    "plt.hist(df_titantic['Age'], bins=10)\n",
    "df_titantic['Age'].describe()"
   ]
  },
  {
   "cell_type": "markdown",
   "metadata": {},
   "source": [
    "**结论:**\n",
    "1. **生存人数和遇难人数在两组直方图中大小关系基本相同无法判断哪个年龄段生存几率较高**\n",
    "2. **根据总体age直方图年龄分布，年龄分布人数不均衡会造成数据分析不准确**\n",
    "3. **由于age分布方差较大，故无法得出age与生存率的关系**"
   ]
  },
  {
   "cell_type": "markdown",
   "metadata": {},
   "source": [
    "> ## 2.5 探究年龄层在1等仓的分布"
   ]
  },
  {
   "cell_type": "code",
   "execution_count": 32,
   "metadata": {},
   "outputs": [
    {
     "data": {
      "text/html": [
       "<div>\n",
       "<style>\n",
       "    .dataframe thead tr:only-child th {\n",
       "        text-align: right;\n",
       "    }\n",
       "\n",
       "    .dataframe thead th {\n",
       "        text-align: left;\n",
       "    }\n",
       "\n",
       "    .dataframe tbody tr th {\n",
       "        vertical-align: top;\n",
       "    }\n",
       "</style>\n",
       "<table border=\"1\" class=\"dataframe\">\n",
       "  <thead>\n",
       "    <tr style=\"text-align: right;\">\n",
       "      <th></th>\n",
       "      <th>count</th>\n",
       "      <th>mean</th>\n",
       "      <th>std</th>\n",
       "      <th>min</th>\n",
       "      <th>25%</th>\n",
       "      <th>50%</th>\n",
       "      <th>75%</th>\n",
       "      <th>max</th>\n",
       "    </tr>\n",
       "    <tr>\n",
       "      <th>Pclass</th>\n",
       "      <th></th>\n",
       "      <th></th>\n",
       "      <th></th>\n",
       "      <th></th>\n",
       "      <th></th>\n",
       "      <th></th>\n",
       "      <th></th>\n",
       "      <th></th>\n",
       "    </tr>\n",
       "  </thead>\n",
       "  <tbody>\n",
       "    <tr>\n",
       "      <th>1</th>\n",
       "      <td>184.0</td>\n",
       "      <td>38.105543</td>\n",
       "      <td>14.778904</td>\n",
       "      <td>0.92</td>\n",
       "      <td>27.0</td>\n",
       "      <td>37.0</td>\n",
       "      <td>49.0</td>\n",
       "      <td>80.0</td>\n",
       "    </tr>\n",
       "    <tr>\n",
       "      <th>2</th>\n",
       "      <td>173.0</td>\n",
       "      <td>29.877630</td>\n",
       "      <td>14.001077</td>\n",
       "      <td>0.67</td>\n",
       "      <td>23.0</td>\n",
       "      <td>29.0</td>\n",
       "      <td>36.0</td>\n",
       "      <td>70.0</td>\n",
       "    </tr>\n",
       "    <tr>\n",
       "      <th>3</th>\n",
       "      <td>355.0</td>\n",
       "      <td>25.140620</td>\n",
       "      <td>12.495398</td>\n",
       "      <td>0.42</td>\n",
       "      <td>18.0</td>\n",
       "      <td>24.0</td>\n",
       "      <td>32.0</td>\n",
       "      <td>74.0</td>\n",
       "    </tr>\n",
       "  </tbody>\n",
       "</table>\n",
       "</div>"
      ],
      "text/plain": [
       "        count       mean        std   min   25%   50%   75%   max\n",
       "Pclass                                                           \n",
       "1       184.0  38.105543  14.778904  0.92  27.0  37.0  49.0  80.0\n",
       "2       173.0  29.877630  14.001077  0.67  23.0  29.0  36.0  70.0\n",
       "3       355.0  25.140620  12.495398  0.42  18.0  24.0  32.0  74.0"
      ]
     },
     "execution_count": 32,
     "metadata": {},
     "output_type": "execute_result"
    }
   ],
   "source": [
    "#获取各舱位年龄分布\n",
    "df_p_age= df_titantic.groupby('Pclass')['Age']\n",
    "df_p_age.describe()"
   ]
  },
  {
   "cell_type": "code",
   "execution_count": 33,
   "metadata": {},
   "outputs": [
    {
     "data": {
      "text/plain": [
       "(array([  3.,   6.,  30.,  29.,  41.,  27.,  27.,  15.,   5.,   1.]),\n",
       " array([  0.92 ,   8.828,  16.736,  24.644,  32.552,  40.46 ,  48.368,\n",
       "         56.276,  64.184,  72.092,  80.   ]),\n",
       " <a list of 10 Patch objects>)"
      ]
     },
     "execution_count": 33,
     "metadata": {},
     "output_type": "execute_result"
    },
    {
     "data": {
      "image/png": "[encoded data removed]",
      "text/plain": [
       "<matplotlib.figure.Figure at 0xa26fda0>"
      ]
     },
     "metadata": {},
     "output_type": "display_data"
    }
   ],
   "source": [
    "#获取1舱位年龄分布直方图\n",
    "df_p1=df_titantic[df_titantic['Pclass']==1]\n",
    "df_p1_age=df_p1['Age']\n",
    "plt.xlabel('Age')\n",
    "plt.ylabel('')\n",
    "plt.title(title)\n",
    "plt.hist(df_p1_age, bins=10)"
   ]
  },
  {
   "cell_type": "markdown",
   "metadata": {},
   "source": [
    "**结论：**\n",
    "* **由之前得出结论1舱位生存率较高，结合1舱位年龄分布图表可得出结论，35-40岁这一的年龄段的生存率高于其他年龄段生存率**"
   ]
  },
  {
   "cell_type": "markdown",
   "metadata": {},
   "source": [
    "# 3 整体总结"
   ]
  },
  {
   "cell_type": "markdown",
   "metadata": {},
   "source": [
    "1. **仓位对于生存率的影响：在1等仓人数少于其他级别仓位人数时，仍有较高的生还率和较低的遇难率，由此断定仓位对生存率存在影响。即1等仓的乘客生存率比较高。**\n",
    "2. **性别对于生存率的影响 ：女性乘客人数少于男性乘客人数，但是其生存人数比男性乘客高，遇难人数比男性乘客低，由此断定女性乘客生存率较高。**\n",
    "3. **年龄对于生存率的影响：由于各年龄段方差比较大，无法判断年龄与生存率的直接关系，但是通过分析1等舱年龄段人数，能够推测出35—40岁这一年龄段生存率高于其他年龄段生存率。**\n",
    "4. **由于生存率是由多个条件共同作用，无法排除其余条件而单独分析某一项因素，同时由于一些数据缺以及不精确（比如年龄存在估算、船票是否代表本人所在仓位,  过滤空值数据而删掉大量数据等）而导致分析结果不够准确，该项目结论只是暂时性的。**"
   ]
  }
 ],
 "metadata": {
  "kernelspec": {
   "display_name": "Python 2",
   "language": "python",
   "name": "python2"
  },
  "language_info": {
   "codemirror_mode": {
    "name": "ipython",
    "version": 2
   },
   "file_extension": ".py",
   "mimetype": "text/x-python",
   "name": "python",
   "nbconvert_exporter": "python",
   "pygments_lexer": "ipython2",
   "version": "2.7.14"
  }
 },
 "nbformat": 4,
 "nbformat_minor": 2
}
