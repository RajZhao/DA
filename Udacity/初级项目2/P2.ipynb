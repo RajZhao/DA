{
 "cells": [
  {
   "cell_type": "code",
   "execution_count": 31,
   "metadata": {
    "collapsed": true
   },
   "outputs": [],
   "source": [
    "import pandas as pd \n",
    "import numpy as np\n",
    "from pandas import DataFrame,Series"
   ]
  },
  {
   "cell_type": "code",
   "execution_count": 32,
   "metadata": {
    "collapsed": true
   },
   "outputs": [],
   "source": [
    "path_name=\"./titanic-data.csv\"\n",
    "titantic_data = pd.read_csv(path_name)\n",
    "df_titantic=DataFrame(titantic_data)"
   ]
  },
  {
   "cell_type": "code",
   "execution_count": 33,
   "metadata": {
    "collapsed": true
   },
   "outputs": [],
   "source": [
    "#筛选出生还和未生还的数据\n",
    "survived=df_titantic[df_titantic['Survived']==1]\n",
    "unsurvived=df_titantic[df_titantic['Survived']==0]"
   ]
  },
  {
   "cell_type": "code",
   "execution_count": 34,
   "metadata": {},
   "outputs": [
    {
     "name": "stdout",
     "output_type": "stream",
     "text": [
      "Survived number of index:\n",
      "PassengerId    342\n",
      "Survived       342\n",
      "Pclass         342\n",
      "Name           342\n",
      "Sex            342\n",
      "Age            290\n",
      "SibSp          342\n",
      "Parch          342\n",
      "Ticket         342\n",
      "Fare           342\n",
      "Cabin          136\n",
      "Embarked       340\n",
      "dtype: int64\n",
      "Unsurvived number of index\n",
      "PassengerId    549\n",
      "Survived       549\n",
      "Pclass         549\n",
      "Name           549\n",
      "Sex            549\n",
      "Age            424\n",
      "SibSp          549\n",
      "Parch          549\n",
      "Ticket         549\n",
      "Fare           549\n",
      "Cabin           68\n",
      "Embarked       549\n",
      "dtype: int64\n"
     ]
    }
   ],
   "source": [
    "#查看每一列的数目，确定数据是否准确\n",
    "print 'Survived number of index:'\n",
    "print survived.count()\n",
    "print 'Unsurvived number of index'\n",
    "print unsurvived.count()"
   ]
  },
  {
   "cell_type": "code",
   "execution_count": 35,
   "metadata": {
    "collapsed": true
   },
   "outputs": [],
   "source": [
    "#通过以上代码显示index数量，发现age和cabin数量与乘客数不匹配，进一步清洗age异常数据\n",
    "survived=survived[survived['Age']>0]\n",
    "unsurvived=unsurvived[unsurvived['Age']>0]\n",
    "#筛选出生还者pclass,sex，ages数据\n",
    "p_class_survived=survived['Pclass']\n",
    "sex_survived=survived['Sex']\n",
    "age_survived=survived['Age']\n",
    "#筛选出遇难者pclass,sex，ages数据\n",
    "p_class_unsurvived=unsurvived['Pclass']\n",
    "sex_unsurvived=unsurvived['Sex']\n",
    "age_unsurvived=unsurvived['Age']"
   ]
  },
  {
   "cell_type": "code",
   "execution_count": 36,
   "metadata": {},
   "outputs": [
    {
     "name": "stdout",
     "output_type": "stream",
     "text": [
      "Populating the interactive namespace from numpy and matplotlib\n"
     ]
    }
   ],
   "source": [
    "#创建绘制图形函数\n",
    "% pylab inline\n",
    "import matplotlib.pyplot as plt\n",
    "import seaborn as sns\n",
    "def data_vis(df, xlabel, ylabel, title,position):\n",
    "    \"\"\"\n",
    "    Des : \n",
    "      - a simple wrap of plt and seabron, to plot a barchart in jupyter-notebook\n",
    "    \"\"\"\n",
    "    plt.xlabel(xlabel)\n",
    "    plt.ylabel(ylabel)\n",
    "    plt.title(title)\n",
    "    df.value_counts(sort=False).plot(kind=position)\n",
    "    sns.set(color_codes=True)"
   ]
  },
  {
   "cell_type": "code",
   "execution_count": 37,
   "metadata": {},
   "outputs": [
    {
     "name": "stdout",
     "output_type": "stream",
     "text": [
      "Pclass相关数据\n",
      "1    186\n",
      "2    173\n",
      "3    355\n",
      "Name: Pclass, dtype: int64\n"
     ]
    },
    {
     "data": {
      "image/png": "[encoded data removed]",
      "text/plain": [
       "<matplotlib.figure.Figure at 0xa325c88>"
      ]
     },
     "metadata": {},
     "output_type": "display_data"
    }
   ],
   "source": [
    "#分析整体函数\n",
    "df_t=df_titantic[df_titantic['Age']>0]\n",
    "print 'Pclass相关数据'\n",
    "data_vis(df_t['Pclass'],'Pclass','number of pclass','all_pclass_data','bar')\n",
    "print df_t['Pclass'].value_counts(sort=False)#算出每类船票人数\n"
   ]
  },
  {
   "cell_type": "code",
   "execution_count": 38,
   "metadata": {},
   "outputs": [
    {
     "name": "stdout",
     "output_type": "stream",
     "text": [
      "整体Sex相关数据\n",
      "female    261\n",
      "male      453\n",
      "Name: Sex, dtype: int64\n"
     ]
    },
    {
     "data": {
      "image/png": "[encoded data removed]",
      "text/plain": [
       "<matplotlib.figure.Figure at 0xe02ee10>"
      ]
     },
     "metadata": {},
     "output_type": "display_data"
    }
   ],
   "source": [
    "print '整体Sex相关数据'\n",
    "data_vis(df_t['Sex'],'SEX','number of sex','all_sex_data','bar')\n",
    "print df_t['Sex'].value_counts(sort=False)"
   ]
  },
  {
   "cell_type": "code",
   "execution_count": 39,
   "metadata": {},
   "outputs": [
    {
     "name": "stdout",
     "output_type": "stream",
     "text": [
      "整体Age相关数据\n"
     ]
    },
    {
     "data": {
      "text/plain": [
       "count    714.000000\n",
       "mean      29.699118\n",
       "std       14.526497\n",
       "min        0.420000\n",
       "25%       20.125000\n",
       "50%       28.000000\n",
       "75%       38.000000\n",
       "max       80.000000\n",
       "Name: Age, dtype: float64"
      ]
     },
     "execution_count": 39,
     "metadata": {},
     "output_type": "execute_result"
    },
    {
     "data": {
      "image/png": "[encoded data removed]",
      "text/plain": [
       "<matplotlib.figure.Figure at 0xc3ed710>"
      ]
     },
     "metadata": {},
     "output_type": "display_data"
    }
   ],
   "source": [
    "print '整体Age相关数据'\n",
    "plt.xlabel('Age')\n",
    "plt.ylabel('Number of Age')\n",
    "plt.title('Age of all passenger')\n",
    "plt.hist(df_t['Age'], bins=10)\n",
    "df_t['Age'].describe()"
   ]
  },
  {
   "cell_type": "code",
   "execution_count": 40,
   "metadata": {
    "scrolled": true
   },
   "outputs": [
    {
     "name": "stdout",
     "output_type": "stream",
     "text": [
      "1    122\n",
      "2     83\n",
      "3     85\n",
      "Name: Pclass, dtype: int64\n"
     ]
    },
    {
     "data": {
      "image/png": "[encoded data removed]",
      "text/plain": [
       "<matplotlib.figure.Figure at 0xc122358>"
      ]
     },
     "metadata": {},
     "output_type": "display_data"
    }
   ],
   "source": [
    "#绘制图形  按照票等级排序的条形图\n",
    "data_vis(p_class_survived,'P_Class', 'Number of P_Class', 'P_Class of survived','bar')\n",
    "print survived['Pclass'].value_counts(sort=False)"
   ]
  },
  {
   "cell_type": "code",
   "execution_count": 41,
   "metadata": {},
   "outputs": [
    {
     "name": "stdout",
     "output_type": "stream",
     "text": [
      "female    197\n",
      "male       93\n",
      "Name: Sex, dtype: int64\n"
     ]
    },
    {
     "data": {
      "image/png": "[encoded data removed]",
      "text/plain": [
       "<matplotlib.figure.Figure at 0xd9d5518>"
      ]
     },
     "metadata": {},
     "output_type": "display_data"
    }
   ],
   "source": [
    "#性别分类条形\n",
    "data_vis(sex_survived,'SEX', 'Number of SEX', 'SEX of survived','bar')\n",
    "print survived['Sex'].value_counts(sort=False)"
   ]
  },
  {
   "cell_type": "code",
   "execution_count": 42,
   "metadata": {},
   "outputs": [
    {
     "data": {
      "image/png": "[encoded data removed]",
      "text/plain": [
       "<matplotlib.figure.Figure at 0xe1cb128>"
      ]
     },
     "metadata": {},
     "output_type": "display_data"
    },
    {
     "data": {
      "text/plain": [
       "count    290.000000\n",
       "mean      28.343690\n",
       "std       14.950952\n",
       "min        0.420000\n",
       "25%       19.000000\n",
       "50%       28.000000\n",
       "75%       36.000000\n",
       "max       80.000000\n",
       "Name: Age, dtype: float64"
      ]
     },
     "execution_count": 42,
     "metadata": {},
     "output_type": "execute_result"
    }
   ],
   "source": [
    "#绘制年龄生还人数的直方图\n",
    "plt.xlabel('Age')\n",
    "plt.ylabel('Number of Age')\n",
    "plt.title('Age of survived')\n",
    "plt.hist(age_survived, bins=10)\n",
    "plt.show()\n",
    "sns.set(color_codes=True)\n",
    "age_survived.describe()"
   ]
  },
  {
   "cell_type": "code",
   "execution_count": 43,
   "metadata": {},
   "outputs": [
    {
     "name": "stdout",
     "output_type": "stream",
     "text": [
      "1     64\n",
      "2     90\n",
      "3    270\n",
      "Name: Pclass, dtype: int64\n"
     ]
    },
    {
     "data": {
      "image/png": "[encoded data removed]",
      "text/plain": [
       "<matplotlib.figure.Figure at 0xe32ef28>"
      ]
     },
     "metadata": {},
     "output_type": "display_data"
    }
   ],
   "source": [
    "#绘制票等级遇难人数的条形图\n",
    "data_vis(p_class_unsurvived,'P_Class', 'Number of P_Class', 'P_Class of unsurvived','bar')\n",
    "print unsurvived['Pclass'].value_counts(sort=False)\n"
   ]
  },
  {
   "cell_type": "code",
   "execution_count": 44,
   "metadata": {},
   "outputs": [
    {
     "name": "stdout",
     "output_type": "stream",
     "text": [
      "female     64\n",
      "male      360\n",
      "Name: Sex, dtype: int64\n"
     ]
    },
    {
     "data": {
      "image/png": "[encoded data removed]",
      "text/plain": [
       "<matplotlib.figure.Figure at 0xdf71e80>"
      ]
     },
     "metadata": {},
     "output_type": "display_data"
    }
   ],
   "source": [
    "#绘制遇难人数按性别分类条形图\n",
    "data_vis(sex_unsurvived,'P_Class', 'Number of SEX', 'SEX of unsurvived','bar')\n",
    "print unsurvived['Sex'].value_counts(sort=False)"
   ]
  },
  {
   "cell_type": "code",
   "execution_count": 45,
   "metadata": {},
   "outputs": [
    {
     "data": {
      "image/png": "[encoded data removed]",
      "text/plain": [
       "<matplotlib.figure.Figure at 0xc4c05f8>"
      ]
     },
     "metadata": {},
     "output_type": "display_data"
    },
    {
     "data": {
      "text/plain": [
       "count    424.000000\n",
       "mean      30.626179\n",
       "std       14.172110\n",
       "min        1.000000\n",
       "25%       21.000000\n",
       "50%       28.000000\n",
       "75%       39.000000\n",
       "max       74.000000\n",
       "Name: Age, dtype: float64"
      ]
     },
     "execution_count": 45,
     "metadata": {},
     "output_type": "execute_result"
    }
   ],
   "source": [
    "#绘制遇难人数按年龄分类的直方图\n",
    "plt.xlabel('Age')\n",
    "plt.ylabel('Number of Age')\n",
    "plt.title('Age of unsurvived')\n",
    "plt.hist(age_unsurvived, bins=10)\n",
    "plt.show()\n",
    "sns.set(color_codes=True)\n",
    "age_unsurvived.describe()"
   ]
  },
  {
   "cell_type": "code",
   "execution_count": 46,
   "metadata": {
    "collapsed": true,
    "scrolled": true
   },
   "outputs": [],
   "source": [
    "#根据图表，发现age图表数据异常，20-30左右生还和遇难的比例都较高，断定造成是由于这个年龄段乘船人数较多"
   ]
  },
  {
   "cell_type": "code",
   "execution_count": 47,
   "metadata": {
    "collapsed": true
   },
   "outputs": [],
   "source": [
    "#将age进行分组\n",
    "def div_age(group_data):\n",
    "    if group_data<10:\n",
    "        group_data='0-10'\n",
    "    elif group_data<20:\n",
    "        group_data='10-20'\n",
    "    elif group_data<30:\n",
    "        group_data='20-30'\n",
    "    elif group_data<40:\n",
    "        group_data='30-40'\n",
    "    elif group_data<50:\n",
    "        group_data='40-50'\n",
    "    elif group_data<60:\n",
    "        group_data='50-60'\n",
    "    elif group_data<70:\n",
    "        group_data='60-70'\n",
    "    else:\n",
    "        group_data='70-80'\n",
    "    return group_data"
   ]
  },
  {
   "cell_type": "code",
   "execution_count": 48,
   "metadata": {
    "collapsed": true
   },
   "outputs": [],
   "source": [
    " #将所有人年龄分组\n",
    "div_sur_age=survived['Age'].apply(div_age)\n",
    "div_unsur_age=unsurvived['Age'].apply(div_age)\n",
    "div_all_age=df_t['Age'].apply(div_age)  "
   ]
  },
  {
   "cell_type": "code",
   "execution_count": 49,
   "metadata": {},
   "outputs": [
    {
     "name": "stdout",
     "output_type": "stream",
     "text": [
      "            Age\n",
      "0-10   0.612903\n",
      "10-20  0.401961\n",
      "20-30  0.350000\n",
      "30-40  0.437126\n",
      "40-50  0.382022\n",
      "50-60  0.416667\n",
      "60-70  0.315789\n",
      "70-80  0.142857\n"
     ]
    }
   ],
   "source": [
    "#计算出各个组存活的概率\n",
    "rate_of_survived=div_sur_age.value_counts(sort=False)/div_all_age.value_counts(sort=False)\n",
    "rate_of_survived=DataFrame(rate_of_survived)\n",
    "print rate_of_survived"
   ]
  },
  {
   "cell_type": "code",
   "execution_count": 50,
   "metadata": {},
   "outputs": [
    {
     "data": {
      "text/plain": [
       "<matplotlib.axes._subplots.AxesSubplot at 0xdf83a58>"
      ]
     },
     "execution_count": 50,
     "metadata": {},
     "output_type": "execute_result"
    },
    {
     "data": {
      "image/png": "[encoded data removed]",
      "text/plain": [
       "<matplotlib.figure.Figure at 0xdbe7ba8>"
      ]
     },
     "metadata": {},
     "output_type": "display_data"
    }
   ],
   "source": [
    "#绘制生还概率条形图\n",
    "rate_of_survived.plot(kind='bar')"
   ]
  },
  {
   "cell_type": "code",
   "execution_count": 51,
   "metadata": {
    "collapsed": true
   },
   "outputs": [],
   "source": [
    "#由于各年龄段人数差异较大，可能造成年龄对生还率造成的影响不准确，进一步分析年龄与pclass是否存在一定联系，进而影响生还率"
   ]
  },
  {
   "cell_type": "code",
   "execution_count": 53,
   "metadata": {},
   "outputs": [
    {
     "data": {
      "text/html": [
       "<div>\n",
       "<style>\n",
       "    .dataframe thead tr:only-child th {\n",
       "        text-align: right;\n",
       "    }\n",
       "\n",
       "    .dataframe thead th {\n",
       "        text-align: left;\n",
       "    }\n",
       "\n",
       "    .dataframe tbody tr th {\n",
       "        vertical-align: top;\n",
       "    }\n",
       "</style>\n",
       "<table border=\"1\" class=\"dataframe\">\n",
       "  <thead>\n",
       "    <tr style=\"text-align: right;\">\n",
       "      <th></th>\n",
       "      <th>count</th>\n",
       "      <th>mean</th>\n",
       "      <th>std</th>\n",
       "      <th>min</th>\n",
       "      <th>25%</th>\n",
       "      <th>50%</th>\n",
       "      <th>75%</th>\n",
       "      <th>max</th>\n",
       "    </tr>\n",
       "    <tr>\n",
       "      <th>Pclass</th>\n",
       "      <th></th>\n",
       "      <th></th>\n",
       "      <th></th>\n",
       "      <th></th>\n",
       "      <th></th>\n",
       "      <th></th>\n",
       "      <th></th>\n",
       "      <th></th>\n",
       "    </tr>\n",
       "  </thead>\n",
       "  <tbody>\n",
       "    <tr>\n",
       "      <th>1</th>\n",
       "      <td>186.0</td>\n",
       "      <td>38.233441</td>\n",
       "      <td>14.802856</td>\n",
       "      <td>0.92</td>\n",
       "      <td>27.0</td>\n",
       "      <td>37.0</td>\n",
       "      <td>49.0</td>\n",
       "      <td>80.0</td>\n",
       "    </tr>\n",
       "    <tr>\n",
       "      <th>2</th>\n",
       "      <td>173.0</td>\n",
       "      <td>29.877630</td>\n",
       "      <td>14.001077</td>\n",
       "      <td>0.67</td>\n",
       "      <td>23.0</td>\n",
       "      <td>29.0</td>\n",
       "      <td>36.0</td>\n",
       "      <td>70.0</td>\n",
       "    </tr>\n",
       "    <tr>\n",
       "      <th>3</th>\n",
       "      <td>355.0</td>\n",
       "      <td>25.140620</td>\n",
       "      <td>12.495398</td>\n",
       "      <td>0.42</td>\n",
       "      <td>18.0</td>\n",
       "      <td>24.0</td>\n",
       "      <td>32.0</td>\n",
       "      <td>74.0</td>\n",
       "    </tr>\n",
       "  </tbody>\n",
       "</table>\n",
       "</div>"
      ],
      "text/plain": [
       "        count       mean        std   min   25%   50%   75%   max\n",
       "Pclass                                                           \n",
       "1       186.0  38.233441  14.802856  0.92  27.0  37.0  49.0  80.0\n",
       "2       173.0  29.877630  14.001077  0.67  23.0  29.0  36.0  70.0\n",
       "3       355.0  25.140620  12.495398  0.42  18.0  24.0  32.0  74.0"
      ]
     },
     "execution_count": 53,
     "metadata": {},
     "output_type": "execute_result"
    }
   ],
   "source": [
    "#关于年龄与pclass关系的分析\n",
    "df_p_age= df_t.groupby('Pclass')['Age']\n",
    "df_p_age.describe()"
   ]
  },
  {
   "cell_type": "code",
   "execution_count": 54,
   "metadata": {
    "collapsed": true
   },
   "outputs": [],
   "source": [
    "#定义绘制年龄分布图函数\n",
    "def freq_age(data,xlabel,ylabel,title):\n",
    "    plt.xlabel(xlabel)\n",
    "    plt.ylabel(ylabel)\n",
    "    plt.title(title)\n",
    "    plt.hist(data['Age'], bins=10)"
   ]
  },
  {
   "cell_type": "code",
   "execution_count": 35,
   "metadata": {},
   "outputs": [
    {
     "data": {
      "image/png": "[encoded data removed]",
      "text/plain": [
       "<matplotlib.figure.Figure at 0xd911cf8>"
      ]
     },
     "metadata": {},
     "output_type": "display_data"
    }
   ],
   "source": [
    "#分析生还者中1等仓年龄分布\n",
    "sur_age_p1=survived[survived['Pclass']==1]\n",
    "freq_age(sur_age_p1,'Age','freq of age','freq of age for surrvived')"
   ]
  },
  {
   "cell_type": "code",
   "execution_count": null,
   "metadata": {
    "collapsed": true
   },
   "outputs": [],
   "source": []
  }
 ],
 "metadata": {
  "kernelspec": {
   "display_name": "Python 2",
   "language": "python",
   "name": "python2"
  },
  "language_info": {
   "codemirror_mode": {
    "name": "ipython",
    "version": 2
   },
   "file_extension": ".py",
   "mimetype": "text/x-python",
   "name": "python",
   "nbconvert_exporter": "python",
   "pygments_lexer": "ipython2",
   "version": "2.7.14"
  }
 },
 "nbformat": 4,
 "nbformat_minor": 2
}
