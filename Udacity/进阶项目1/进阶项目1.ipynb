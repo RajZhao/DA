{
 "cells": [
  {
   "cell_type": "code",
   "execution_count": 1,
   "metadata": {
    "collapsed": true
   },
   "outputs": [],
   "source": [
    "# -*-coding:utf-8 -*-\n",
    "import xml.etree.ElementTree as ET\n",
    "import pprint\n",
    "import re\n",
    "from collections import defaultdict\n",
    "OSM_FILE='./delaware-latest.osm'\n",
    "SAMPLE_FILE ='./sample.osm'\n",
    "k = 40 # Parameter: take every k-th top level element\n",
    "def get_element(osm_file, tags=('node', 'way', 'relation')):\n",
    "    \"\"\"Yield element if it is the right type of tag\n",
    "\n",
    "    Reference:\n",
    "    http://stackoverflow.com/questions/3095434/inserting-newlines-in-xml-file-generated-via-xml-etree-elementtree-in-python\n",
    "    \"\"\"\n",
    "    context = iter(ET.iterparse(OSM_FILE, events=('start', 'end')))\n",
    "    _, root = next(context)\n",
    "    for event, elem in context:\n",
    "        if event == 'end' and elem.tag in tags:\n",
    "            yield elem\n",
    "            root.clear()\n",
    "\n",
    "\n",
    "with open(SAMPLE_FILE, 'wb') as output:\n",
    "    output.write('<?xml version=\"1.0\" encoding=\"UTF-8\"?>\\n')\n",
    "    output.write('<osm>\\n  ')\n",
    "\n",
    "    # Write every kth top level element\n",
    "    for i, element in enumerate(get_element(OSM_FILE)):\n",
    "        if i % k == 0:\n",
    "            output.write(ET.tostring(element, encoding='utf-8'))\n",
    "\n",
    "    output.write('</osm>')"
   ]
  },
  {
   "cell_type": "code",
   "execution_count": 2,
   "metadata": {
    "collapsed": true
   },
   "outputs": [],
   "source": [
    "#This function is count_tags and get tpye of tags\n",
    "\n",
    "def count_tags(filename):\n",
    "        # YOUR CODE HERE\n",
    "        taglist=[]\n",
    "        tags=dict()\n",
    "        tree=ET.iterparse(filename)\n",
    "        for event,elem in tree:\n",
    "            if elem.tag not in tags.keys():\n",
    "                tags[elem.tag]=1\n",
    "            else:\n",
    "                tags[elem.tag]=tags[elem.tag]+1\n",
    "        return tags"
   ]
  },
  {
   "cell_type": "code",
   "execution_count": 3,
   "metadata": {},
   "outputs": [
    {
     "name": "stdout",
     "output_type": "stream",
     "text": [
      "{'bounds': 1,\n",
      " 'member': 62932,\n",
      " 'nd': 1123208,\n",
      " 'node': 941707,\n",
      " 'osm': 1,\n",
      " 'relation': 1712,\n",
      " 'tag': 527988,\n",
      " 'way': 92076}\n"
     ]
    }
   ],
   "source": [
    "# Get tags number\n",
    "tags = count_tags(OSM_FILE)\n",
    "pprint.pprint(tags)"
   ]
  },
  {
   "cell_type": "code",
   "execution_count": 12,
   "metadata": {
    "collapsed": true
   },
   "outputs": [],
   "source": [
    "# Judege exist illegal data or not\n",
    "def judge_id(filename):\n",
    "    bad_id=[]\n",
    "    for _, element in ET.iterparse(filename):\n",
    "        try:\n",
    "            if not re.match(r'^\\d+$',element.attrib['uid']):\n",
    "                bad_id.append(element.attrib['uid'])\n",
    "        except:\n",
    "            pass\n",
    "        pass\n",
    "    return bad_id"
   ]
  },
  {
   "cell_type": "code",
   "execution_count": 13,
   "metadata": {},
   "outputs": [
    {
     "name": "stdout",
     "output_type": "stream",
     "text": [
      "[]\n"
     ]
    }
   ],
   "source": [
    "print judge_id(SAMPLE_FILE)"
   ]
  },
  {
   "cell_type": "code",
   "execution_count": 14,
   "metadata": {
    "collapsed": true
   },
   "outputs": [],
   "source": [
    "#This is get unique user\n",
    "def get_user(filename):\n",
    "    \n",
    "    users = []\n",
    "    for _, element in ET.iterparse(filename):\n",
    "        user_info={}\n",
    "        try:\n",
    "            user_info['uid']=element.attrib['uid']\n",
    "            user_info['timestamp']=element.attrib['timestamp']\n",
    "            user_info['user']=element.attrib['user']\n",
    "            users.append(user_info)\n",
    "        except:\n",
    "            pass\n",
    "        pass\n",
    "    return users"
   ]
  },
  {
   "cell_type": "code",
   "execution_count": 15,
   "metadata": {
    "collapsed": true
   },
   "outputs": [],
   "source": [
    "user_data=get_user(OSM_FILE)"
   ]
  },
  {
   "cell_type": "code",
   "execution_count": 16,
   "metadata": {
    "collapsed": true
   },
   "outputs": [],
   "source": [
    "#This function is get tags\n",
    "def get_node_tags(filename):\n",
    "    \n",
    "    node_list=[]\n",
    "    for _,element in ET.iterparse(filename):\n",
    "        node_tags={}\n",
    "        try:\n",
    "            if element.tag=='node':\n",
    "                node_tags['changeset']=element.attrib['changeset']\n",
    "                node_tags['node_id']=element.attrib['id']\n",
    "                node_tags['lat']=element.attrib['lat']\n",
    "                node_tags['lon']=element.attrib['lon']\n",
    "                node_list.append(node_tags)\n",
    "        except:\n",
    "            pass\n",
    "        pass\n",
    "    return node_list"
   ]
  },
  {
   "cell_type": "code",
   "execution_count": 17,
   "metadata": {
    "collapsed": true
   },
   "outputs": [],
   "source": [
    "#get node\n",
    "node_data= get_node_tags(OSM_FILE)"
   ]
  },
  {
   "cell_type": "code",
   "execution_count": 18,
   "metadata": {},
   "outputs": [
    {
     "name": "stdout",
     "output_type": "stream",
     "text": [
      "[{'lat': '39.8023061', 'changeset': '14254291', 'node_id': '75385503', 'lon': '-75.4149476'}, {'lat': '39.7221284', 'changeset': '8027863', 'node_id': '75390099', 'lon': '-75.7887221'}, {'lat': '39.7439567', 'changeset': '4830611', 'node_id': '75390129', 'lon': '-75.762562'}, {'lat': '39.7556043', 'changeset': '4870911', 'node_id': '75390163', 'lon': '-75.7544014'}, {'lat': '39.781798', 'changeset': '4870911', 'node_id': '75390202', 'lon': '-75.7301321'}, {'lat': '39.7848591', 'changeset': '4870911', 'node_id': '75390209', 'lon': '-75.726572'}, {'lat': '39.7792758', 'changeset': '4870911', 'node_id': '75390220', 'lon': '-75.732966'}, {'lat': '39.791653', 'changeset': '4870911', 'node_id': '75390223', 'lon': '-75.7176608'}, {'lat': '39.7939574', 'changeset': '4870911', 'node_id': '75390224', 'lon': '-75.7147491'}, {'lat': '39.7893187', 'changeset': '4870911', 'node_id': '75390230', 'lon': '-75.7207621'}]\n"
     ]
    }
   ],
   "source": [
    "print node_data[0:10]"
   ]
  },
  {
   "cell_type": "code",
   "execution_count": 19,
   "metadata": {
    "collapsed": true
   },
   "outputs": [],
   "source": [
    "def get_ways(filename):\n",
    "    way_list=[]\n",
    "    for _,element in ET.iterparse(filename):\n",
    "        way_tags={}\n",
    "        try:\n",
    "            if element.tag=='way':\n",
    "                way_tags['changeset']=element.attrib['changeset']\n",
    "                way_tags['way_id']=element.attrib['id']\n",
    "                way_list.append(way_tags)\n",
    "        except:\n",
    "            pass\n",
    "        pass\n",
    "    return way_list"
   ]
  },
  {
   "cell_type": "code",
   "execution_count": 20,
   "metadata": {
    "collapsed": true
   },
   "outputs": [],
   "source": [
    "#This function is get way\n",
    "way_data= get_ways(OSM_FILE)"
   ]
  },
  {
   "cell_type": "code",
   "execution_count": 21,
   "metadata": {
    "collapsed": true
   },
   "outputs": [],
   "source": [
    "# Get name of node which choice\n",
    "def get_infor(element):\n",
    "    information=['name','wifi','amenity','cuisine','addr:city','addr:postcode']\n",
    "    get_information={}\n",
    "    for tag in element.iter('tag'):\n",
    "        k_value=tag.attrib['k']\n",
    "        if k_value in information:\n",
    "            get_information[k_value]=tag.attrib['v']\n",
    "    return get_information\n",
    "def get_tags(filename,value):\n",
    "    data=[]\n",
    "    for _,element in ET.iterparse(filename):\n",
    "        try:\n",
    "            if element.tag=='way':\n",
    "                for tag in element.iter('tag'):\n",
    "                    if tag.attrib['k']=='amenity' and tag.attrib['v']==value:\n",
    "                        infor=get_infor(element)\n",
    "                        data.append(infor)\n",
    "                        break\n",
    "        except:\n",
    "            pass\n",
    "        pass\n",
    "    return data"
   ]
  },
  {
   "cell_type": "code",
   "execution_count": 22,
   "metadata": {
    "collapsed": true
   },
   "outputs": [],
   "source": [
    "restaurant_data=get_tags(OSM_FILE,'restaurant')"
   ]
  },
  {
   "cell_type": "code",
   "execution_count": 2,
   "metadata": {
    "collapsed": true
   },
   "outputs": [],
   "source": [
    "#Judge zip illegal or not\n",
    "def judge_zip(filename):\n",
    "    bad_code=[]\n",
    "    for _,element in ET.iterparse(filename):\n",
    "        try:\n",
    "            if element.tag=='way':\n",
    "                for tag in element.iter('tag'):\n",
    "                    if tag.attrib['k']=='tiger:zip_left':\n",
    "                        value=tag.attrib['v']\n",
    "                        if not re.match(r'^\\d{5}$',value):\n",
    "                            bad_code.append(value)\n",
    "        except:\n",
    "            pass\n",
    "        pass\n",
    "    return bad_code"
   ]
  },
  {
   "cell_type": "code",
   "execution_count": 3,
   "metadata": {},
   "outputs": [
    {
     "name": "stdout",
     "output_type": "stream",
     "text": [
      "['19805:19808', '19707:19805', '19805:19808', '19803:19809:19810', '19703:19809']\n"
     ]
    }
   ],
   "source": [
    "#illegal zip\n",
    "illegal_zip=judge_zip(SAMPLE_FILE)\n",
    "print illegal_zip"
   ]
  },
  {
   "cell_type": "code",
   "execution_count": 4,
   "metadata": {
    "collapsed": true
   },
   "outputs": [],
   "source": [
    "#Update illegal zip\n",
    "def Update_zip(zip):\n",
    "    Updated_zip=[]\n",
    "    temp=zip.split(':')\n",
    "    for i in range(int(temp[0]),int(temp[-1])+1):\n",
    "        Updated_zip.append(str(i))\n",
    "    return Updated_zip"
   ]
  },
  {
   "cell_type": "code",
   "execution_count": 26,
   "metadata": {
    "collapsed": true
   },
   "outputs": [],
   "source": [
    "#Get zip code\n",
    "from collections import defaultdict\n",
    "def get_zip(filename):\n",
    "    zip_code=[]\n",
    "    for _,element in ET.iterparse(filename):\n",
    "        zip_infor={}\n",
    "        try:\n",
    "            if element.tag=='way':\n",
    "                for tag in element.iter('tag'):\n",
    "                    if tag.attrib['k']=='tiger:zip_left':\n",
    "                        if len(tag.attrib['v'])==5:\n",
    "                            zip_infor['zip_code']=tag.attrib['v']\n",
    "                            for tag in element.iter('tag'):\n",
    "                                if tag.attrib['k']=='name':\n",
    "                                    zip_infor['name']=tag.attrib['v']\n",
    "                                    break\n",
    "                            zip_code.append(zip_infor)\n",
    "                            break\n",
    "                        if len(tag.attrib['v'])!=5:\n",
    "                            tmp_zip=Update_zip(tag.attrib['v'])\n",
    "                            zip_infor['zip_code']=tmp_zip\n",
    "                            for tag in element.iter('tag'):\n",
    "                                if tag.attrib['k']=='name':\n",
    "                                    zip_infor['name']=tag.attrib['v']\n",
    "                                    break\n",
    "                            zip_code.append(zip_infor)\n",
    "                            break\n",
    "        except:\n",
    "            pass\n",
    "        pass\n",
    "    return zip_code"
   ]
  },
  {
   "cell_type": "code",
   "execution_count": 27,
   "metadata": {
    "collapsed": true
   },
   "outputs": [],
   "source": [
    "# Get zip code and append Updated_zip\n",
    "zip_code_data=get_zip(OSM_FILE)"
   ]
  },
  {
   "cell_type": "code",
   "execution_count": 28,
   "metadata": {
    "collapsed": true
   },
   "outputs": [],
   "source": [
    "#Ouput json\n",
    "import json\n",
    "def output_json(data,name):\n",
    "    name=name+'.json'\n",
    "    with open(name,'w') as f:\n",
    "        json.dump(data,f)\n",
    "    print \"completed\""
   ]
  },
  {
   "cell_type": "code",
   "execution_count": 29,
   "metadata": {},
   "outputs": [
    {
     "name": "stdout",
     "output_type": "stream",
     "text": [
      "completed\n",
      "completed\n",
      "completed\n",
      "completed\n",
      "completed\n"
     ]
    }
   ],
   "source": [
    "output_json(user_data,'user')\n",
    "output_json(node_data,'node')\n",
    "output_json(way_data,'way')\n",
    "output_json(restaurant_data,'restaurant')\n",
    "output_json(zip_code_data,'zip_code')"
   ]
  },
  {
   "cell_type": "code",
   "execution_count": 30,
   "metadata": {
    "collapsed": true
   },
   "outputs": [],
   "source": [
    "# Insert the json to mongodb\n",
    "import json\n",
    "from pymongo import MongoClient\n",
    "client = MongoClient(\"mongodb://localhost:27017\")\n",
    "db=client.examples"
   ]
  },
  {
   "cell_type": "code",
   "execution_count": 31,
   "metadata": {
    "collapsed": true
   },
   "outputs": [],
   "source": [
    "def insert_user(document):\n",
    "    with open(document) as f:\n",
    "        data = json.loads(f.read())\n",
    "        db.user.insert_many(data)\n",
    "        print 'completed'"
   ]
  },
  {
   "cell_type": "code",
   "execution_count": 32,
   "metadata": {},
   "outputs": [
    {
     "name": "stdout",
     "output_type": "stream",
     "text": [
      "completed\n"
     ]
    }
   ],
   "source": [
    "insert_user('user.json')"
   ]
  },
  {
   "cell_type": "code",
   "execution_count": 33,
   "metadata": {
    "collapsed": true
   },
   "outputs": [],
   "source": [
    "def insert_node(document):\n",
    "    with open(document) as f:\n",
    "        data = json.loads(f.read())\n",
    "        db.node.insert_many(data)\n",
    "        print 'completed'"
   ]
  },
  {
   "cell_type": "code",
   "execution_count": 34,
   "metadata": {},
   "outputs": [
    {
     "name": "stdout",
     "output_type": "stream",
     "text": [
      "completed\n"
     ]
    }
   ],
   "source": [
    "insert_node('node.json')"
   ]
  },
  {
   "cell_type": "code",
   "execution_count": 35,
   "metadata": {
    "collapsed": true
   },
   "outputs": [],
   "source": [
    "def insert_way(document):\n",
    "    with open(document) as f:\n",
    "        data = json.loads(f.read())\n",
    "        db.way.insert_many(data)\n",
    "        print 'completed'"
   ]
  },
  {
   "cell_type": "code",
   "execution_count": 36,
   "metadata": {},
   "outputs": [
    {
     "name": "stdout",
     "output_type": "stream",
     "text": [
      "completed\n"
     ]
    }
   ],
   "source": [
    "insert_way('way.json')"
   ]
  },
  {
   "cell_type": "code",
   "execution_count": 37,
   "metadata": {
    "collapsed": true
   },
   "outputs": [],
   "source": [
    "def insert_restaurant(document):\n",
    "    with open(document) as f:\n",
    "        data = json.loads(f.read())\n",
    "        db.restaurant.insert_many(data)\n",
    "        print 'completed'"
   ]
  },
  {
   "cell_type": "code",
   "execution_count": 38,
   "metadata": {},
   "outputs": [
    {
     "name": "stdout",
     "output_type": "stream",
     "text": [
      "completed\n"
     ]
    }
   ],
   "source": [
    "insert_restaurant('restaurant.json')"
   ]
  },
  {
   "cell_type": "code",
   "execution_count": 39,
   "metadata": {
    "collapsed": true
   },
   "outputs": [],
   "source": [
    "def insert_zip_code(document):\n",
    "    with open(document) as f:\n",
    "        data = json.loads(f.read())\n",
    "        db.zip_code.insert_many(data)\n",
    "        print 'completed'"
   ]
  },
  {
   "cell_type": "code",
   "execution_count": 40,
   "metadata": {},
   "outputs": [
    {
     "name": "stdout",
     "output_type": "stream",
     "text": [
      "completed\n"
     ]
    }
   ],
   "source": [
    "insert_zip_code('zip_code.json')"
   ]
  },
  {
   "cell_type": "code",
   "execution_count": null,
   "metadata": {
    "collapsed": true
   },
   "outputs": [],
   "source": []
  },
  {
   "cell_type": "code",
   "execution_count": null,
   "metadata": {
    "collapsed": true
   },
   "outputs": [],
   "source": []
  }
 ],
 "metadata": {
  "kernelspec": {
   "display_name": "Python 2",
   "language": "python",
   "name": "python2"
  },
  "language_info": {
   "codemirror_mode": {
    "name": "ipython",
    "version": 2
   },
   "file_extension": ".py",
   "mimetype": "text/x-python",
   "name": "python",
   "nbconvert_exporter": "python",
   "pygments_lexer": "ipython2",
   "version": "2.7.14"
  }
 },
 "nbformat": 4,
 "nbformat_minor": 2
}
